{
  "nbformat": 4,
  "nbformat_minor": 0,
  "metadata": {
    "colab": {
      "provenance": []
    },
    "kernelspec": {
      "name": "python3",
      "display_name": "Python 3"
    },
    "language_info": {
      "name": "python"
    }
  },
  "cells": [
    {
      "cell_type": "markdown",
      "source": [
        "## **Listas** **Enlazadas**\n",
        "\n",
        "**Definición de la clase Receta**"
      ],
      "metadata": {
        "id": "Gu2ze_1FhY5U"
      }
    },
    {
      "cell_type": "code",
      "source": [
        "class receta:\n",
        "  def __init__(self, paciente, fecha_nac, doctor, colegiado, fecha_cita, hora_cita, tipo_consulta, tratamiento):\n",
        "    self.paciente = paciente\n",
        "    self.fecha_nac = fecha_nac\n",
        "    self.doctor = doctor\n",
        "    self.colegiado = colegiado\n",
        "    self.fecha_cita = fecha_cita\n",
        "    self.hora_cita = hora_cita\n",
        "    self.tipo_consulta = tipo_consulta\n",
        "    self.tratamiento = tratamiento\n"
      ],
      "metadata": {
        "id": "1VEaJLQ7jAwf"
      },
      "execution_count": 1,
      "outputs": []
    },
    {
      "cell_type": "markdown",
      "source": [
        "**Definición de la clase nodo**"
      ],
      "metadata": {
        "id": "gud6i4hZlcq8"
      }
    },
    {
      "cell_type": "code",
      "source": [
        "class nodo:\n",
        "  def __init__(self, receta=None, siguiente=None):\n",
        "    self.receta = receta\n",
        "    self.siguiente = siguiente"
      ],
      "metadata": {
        "id": "qPUFyverljW_"
      },
      "execution_count": 2,
      "outputs": []
    },
    {
      "cell_type": "markdown",
      "source": [
        "** Definición de la clase Lista Enlazada **"
      ],
      "metadata": {
        "id": "OuoHYhSuqUSY"
      }
    },
    {
      "cell_type": "code",
      "source": [
        "class lista_enlazada:\n",
        "  def __init__(self):\n",
        "    self.primero =  None\n",
        "\n",
        "  def insertar(self, receta):\n",
        "    if self.primero is None:\n",
        "      self.primero = nodo(receta = receta)\n",
        "      return\n",
        "    actual = self.primero\n",
        "    while actual.siguiente:\n",
        "      actual = actual.siguiente\n",
        "    actual.siguiente = nodo(receta = receta)\n",
        "\n",
        "  def recorrer(self):\n",
        "    actual = self.primero\n",
        "\n",
        "    while actual != None:\n",
        "      print(\"Paciente: \", actual.receta.paciente, \n",
        "            \"| Fecha de nacimiento: \", actual.receta.fecha_nac, \n",
        "            \"| Doctor: \", actual.receta.doctor, \n",
        "            \"| Colegiado: \", actual.receta.colegiado, \n",
        "            \"| Fecha de cita: \", actual.receta.fecha_cita, \n",
        "            \"| Hora de cita: \", actual.receta.hora_cita, \n",
        "            \"| Tipo de consulta: \", actual.receta.tipo_consulta, \n",
        "            \"| Tratamiento: \", actual.receta.tratamiento)\n",
        "      actual = actual.siguiente\n",
        "\n",
        "  def eliminar(self, colegiado, fecha_cita, hora_cita):\n",
        "    actual = self.primero\n",
        "    anterior = None\n",
        "    \n",
        "    while actual and actual.receta.colegiado != colegiado and actual.receta.fecha_cita and actual.receta.hora_cita != hora_cita:\n",
        "      anterior = actual\n",
        "      actual = actual.siguiente\n",
        "\n",
        "    if anterior is None:\n",
        "      self.primero = actual.siguiente\n",
        "      actual.siguiente = None\n",
        "    elif actual:\n",
        "      anterior.siguiente = actual.siguiente\n",
        "      actual.siguiente = None\n",
        "      \n"
      ],
      "metadata": {
        "id": "VlP_wNGbqniN"
      },
      "execution_count": 3,
      "outputs": []
    },
    {
      "cell_type": "markdown",
      "source": [
        "**Creación de objetos Receta**"
      ],
      "metadata": {
        "id": "XmfAktgExrG2"
      }
    },
    {
      "cell_type": "code",
      "source": [
        "r1 = receta(\"Gerson López\", \"03-10-1990\", \"Melvin Ortiz\", 20156, \"17-01-2023\", \"11:30\", \"Medicina General\", \"2 pildoras de acetomiofén cada 6 horas\")\n",
        "r2 = receta(\"Karen López\", \"03-10-1990\", \"Melvin Ortiz\", 20156, \"17-01-2023\", \"12:30\", \"Medicina General\", \"2 pildoras de acetomiofén cada 6 horas\")\n",
        "r3 = receta(\"Luis García\", \"03-10-1990\", \"Melvin Ortiz\", 20156, \"17-01-2023\", \"1:30\", \"Medicina General\", \"2 pildoras de acetomiofén cada 6 horas\")\n"
      ],
      "metadata": {
        "id": "buEGdBI3xz11"
      },
      "execution_count": 4,
      "outputs": []
    },
    {
      "cell_type": "markdown",
      "source": [
        "**Insersion**\n",
        "\n"
      ],
      "metadata": {
        "id": "yJptaTUoyqqC"
      }
    },
    {
      "cell_type": "code",
      "source": [
        "lista_e = lista_enlazada()\n",
        "lista_e.insertar(r1)\n",
        "lista_e.insertar(r2)\n",
        "lista_e.insertar(r3)"
      ],
      "metadata": {
        "id": "_6Xe839nyzQa"
      },
      "execution_count": 5,
      "outputs": []
    },
    {
      "cell_type": "markdown",
      "source": [
        "**Recorrer**"
      ],
      "metadata": {
        "id": "_1zL23YEyNPQ"
      }
    },
    {
      "cell_type": "code",
      "source": [
        "lista_e.recorrer()"
      ],
      "metadata": {
        "colab": {
          "base_uri": "https://localhost:8080/"
        },
        "id": "TdCSBU_ryP10",
        "outputId": "34ac3790-f3ab-4e45-e24c-4ed4fa51822e"
      },
      "execution_count": 8,
      "outputs": [
        {
          "output_type": "stream",
          "name": "stdout",
          "text": [
            "Paciente:  Karen López | Fecha de nacimiento:  03-10-1990 | Doctor:  Melvin Ortiz | Colegiado:  20156 | Fecha de cita:  17-01-2023 | Hora de cita:  12:30 | Tipo de consulta:  Medicina General | Tratamiento:  2 pildoras de acetomiofén cada 6 horas\n",
            "Paciente:  Luis García | Fecha de nacimiento:  03-10-1990 | Doctor:  Melvin Ortiz | Colegiado:  20156 | Fecha de cita:  17-01-2023 | Hora de cita:  1:30 | Tipo de consulta:  Medicina General | Tratamiento:  2 pildoras de acetomiofén cada 6 horas\n"
          ]
        }
      ]
    },
    {
      "cell_type": "markdown",
      "source": [
        "**Eliminar**"
      ],
      "metadata": {
        "id": "ffzc_hWknt9o"
      }
    },
    {
      "cell_type": "code",
      "source": [
        "lista_e.eliminar(20156,\"17-01-2023\", \"11:30\")"
      ],
      "metadata": {
        "id": "vR-O6vSinzVB"
      },
      "execution_count": 7,
      "outputs": []
    }
  ]
}